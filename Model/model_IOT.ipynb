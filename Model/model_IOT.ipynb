{
 "cells": [
  {
   "cell_type": "code",
   "execution_count": 1,
   "metadata": {},
   "outputs": [],
   "source": [
    "import tensorflow as tf\n",
    "from tensorflow import keras\n",
    "from keras import Sequential\n",
    "from keras.layers import Dense\n",
    "from keras import Input\n",
    "import matplotlib.pyplot as plt\n",
    "import numpy as np\n",
    "import cv2 as cv\n",
    "import itertools"
   ]
  },
  {
   "cell_type": "code",
   "execution_count": 2,
   "metadata": {},
   "outputs": [],
   "source": [
    "import os\n",
    "train_image_files_path='C:/Users/ADMIN/Downloads/datanumber3/filetrain'\n",
    "valid_image_files_path='C:/Users/ADMIN/Downloads/datanumber3/filevalid'"
   ]
  },
  {
   "cell_type": "code",
   "execution_count": 3,
   "metadata": {},
   "outputs": [],
   "source": [
    "label=['0', '1', '2', '3', '4', '5', '6', '7', '8', '9']"
   ]
  },
  {
   "cell_type": "code",
   "execution_count": 4,
   "metadata": {},
   "outputs": [],
   "source": [
    "from keras.preprocessing.image import ImageDataGenerator\n",
    "train_data_gen = ImageDataGenerator(rescale=1/255)\n",
    "valid_data_gen = ImageDataGenerator(rescale=1/255)"
   ]
  },
  {
   "cell_type": "code",
   "execution_count": 5,
   "metadata": {},
   "outputs": [
    {
     "name": "stdout",
     "output_type": "stream",
     "text": [
      "Found 2000 images belonging to 10 classes.\n",
      "Found 200 images belonging to 10 classes.\n"
     ]
    }
   ],
   "source": [
    "train_generator = train_data_gen.flow_from_directory(\n",
    "    train_image_files_path,\n",
    "    target_size=(40,40),\n",
    "    class_mode='categorical'\n",
    ")\n",
    "\n",
    "valid_generator = valid_data_gen.flow_from_directory(\n",
    "    valid_image_files_path,\n",
    "    target_size=(40,40),\n",
    "    class_mode='categorical'\n",
    ")"
   ]
  },
  {
   "cell_type": "code",
   "execution_count": 6,
   "metadata": {},
   "outputs": [],
   "source": [
    "from keras.models import Sequential\n",
    "from keras.layers import Dense, Dropout, Conv2D, MaxPooling2D, Flatten\n",
    "\n",
    "model=Sequential()\n",
    "\n",
    "#LopCNN1\n",
    "model.add(Conv2D(4,(3,3), activation='relu',input_shape=(40,40,3)))\n",
    "model.add(Dropout(rate=0.1))\n",
    "model.add(MaxPooling2D(2,2))\n",
    "#LopCNN2\n",
    "model.add(Conv2D(8,(3,3), activation='relu'))\n",
    "model.add(MaxPooling2D(2,2))\n",
    "\n",
    "#LopCNN3\n",
    "model.add(Conv2D(16,(3,3), activation='relu'))\n",
    "model.add(Dropout(rate=0.2))\n",
    "model.add(MaxPooling2D(2,2))\n",
    "\n",
    "model.add(Flatten())\n",
    "model.add(Dense(70,activation=tf.nn.relu))\n",
    "model.add(Dense(10,activation=tf.nn.softmax))"
   ]
  },
  {
   "cell_type": "code",
   "execution_count": 7,
   "metadata": {},
   "outputs": [],
   "source": [
    "# model.summary()"
   ]
  },
  {
   "cell_type": "code",
   "execution_count": 8,
   "metadata": {},
   "outputs": [],
   "source": [
    "from keras.optimizers import Adam\n",
    "model.compile(optimizer=Adam(learning_rate=0.001),\n",
    "              loss='categorical_crossentropy',\n",
    "              metrics=['acc'])"
   ]
  },
  {
   "cell_type": "code",
   "execution_count": 9,
   "metadata": {},
   "outputs": [
    {
     "name": "stdout",
     "output_type": "stream",
     "text": [
      "Epoch 1/80\n",
      "10/10 [==============================] - 2s 87ms/step - loss: 2.2900 - acc: 0.0844 - val_loss: 2.2726 - val_acc: 0.1312\n",
      "Epoch 2/80\n",
      "10/10 [==============================] - 1s 60ms/step - loss: 2.2350 - acc: 0.1344 - val_loss: 2.2338 - val_acc: 0.1500\n",
      "Epoch 3/80\n",
      "10/10 [==============================] - 1s 55ms/step - loss: 2.1778 - acc: 0.1969 - val_loss: 2.1795 - val_acc: 0.2562\n",
      "Epoch 4/80\n",
      "10/10 [==============================] - 1s 64ms/step - loss: 2.0737 - acc: 0.3656 - val_loss: 2.0730 - val_acc: 0.3625\n",
      "Epoch 5/80\n",
      "10/10 [==============================] - 1s 57ms/step - loss: 1.9084 - acc: 0.4243 - val_loss: 1.9187 - val_acc: 0.3562\n",
      "Epoch 6/80\n",
      "10/10 [==============================] - 1s 55ms/step - loss: 1.6230 - acc: 0.4938 - val_loss: 1.6493 - val_acc: 0.5250\n",
      "Epoch 7/80\n",
      "10/10 [==============================] - 1s 56ms/step - loss: 1.4897 - acc: 0.5844 - val_loss: 1.3813 - val_acc: 0.7063\n",
      "Epoch 8/80\n",
      "10/10 [==============================] - 1s 56ms/step - loss: 1.2055 - acc: 0.6579 - val_loss: 1.2226 - val_acc: 0.7000\n",
      "Epoch 9/80\n",
      "10/10 [==============================] - 1s 61ms/step - loss: 1.0794 - acc: 0.6500 - val_loss: 1.0947 - val_acc: 0.7188\n",
      "Epoch 10/80\n",
      "10/10 [==============================] - 1s 55ms/step - loss: 0.9657 - acc: 0.7125 - val_loss: 0.9641 - val_acc: 0.7688\n",
      "Epoch 11/80\n",
      "10/10 [==============================] - 1s 51ms/step - loss: 0.8257 - acc: 0.7281 - val_loss: 0.9197 - val_acc: 0.7375\n",
      "Epoch 12/80\n",
      "10/10 [==============================] - 1s 52ms/step - loss: 0.8421 - acc: 0.7594 - val_loss: 0.7659 - val_acc: 0.7625\n",
      "Epoch 13/80\n",
      "10/10 [==============================] - 1s 53ms/step - loss: 0.7644 - acc: 0.7688 - val_loss: 0.6943 - val_acc: 0.8562\n",
      "Epoch 14/80\n",
      "10/10 [==============================] - 1s 61ms/step - loss: 0.6906 - acc: 0.7844 - val_loss: 0.6930 - val_acc: 0.8562\n",
      "Epoch 15/80\n",
      "10/10 [==============================] - 1s 54ms/step - loss: 0.6464 - acc: 0.8224 - val_loss: 0.6793 - val_acc: 0.8687\n",
      "Epoch 16/80\n",
      "10/10 [==============================] - 1s 62ms/step - loss: 0.5285 - acc: 0.8375 - val_loss: 0.5853 - val_acc: 0.8500\n",
      "Epoch 17/80\n",
      "10/10 [==============================] - 1s 58ms/step - loss: 0.4938 - acc: 0.8406 - val_loss: 0.6129 - val_acc: 0.8500\n",
      "Epoch 18/80\n",
      "10/10 [==============================] - 1s 53ms/step - loss: 0.5206 - acc: 0.8594 - val_loss: 0.5672 - val_acc: 0.8687\n",
      "Epoch 19/80\n",
      "10/10 [==============================] - 1s 52ms/step - loss: 0.5267 - acc: 0.8281 - val_loss: 0.5518 - val_acc: 0.8625\n",
      "Epoch 20/80\n",
      "10/10 [==============================] - 1s 53ms/step - loss: 0.4835 - acc: 0.8875 - val_loss: 0.5394 - val_acc: 0.8813\n",
      "Epoch 21/80\n",
      "10/10 [==============================] - 1s 57ms/step - loss: 0.4318 - acc: 0.8687 - val_loss: 0.4724 - val_acc: 0.9125\n",
      "Epoch 22/80\n",
      "10/10 [==============================] - 1s 52ms/step - loss: 0.3467 - acc: 0.8938 - val_loss: 0.4384 - val_acc: 0.9000\n",
      "Epoch 23/80\n",
      "10/10 [==============================] - 1s 59ms/step - loss: 0.3717 - acc: 0.8849 - val_loss: 0.4950 - val_acc: 0.8813\n",
      "Epoch 24/80\n",
      "10/10 [==============================] - 1s 55ms/step - loss: 0.3329 - acc: 0.8906 - val_loss: 0.4347 - val_acc: 0.9125\n",
      "Epoch 25/80\n",
      "10/10 [==============================] - 1s 58ms/step - loss: 0.2314 - acc: 0.9375 - val_loss: 0.3800 - val_acc: 0.9000\n",
      "Epoch 26/80\n",
      "10/10 [==============================] - 1s 61ms/step - loss: 0.2712 - acc: 0.9250 - val_loss: 0.4676 - val_acc: 0.9062\n",
      "Epoch 27/80\n",
      "10/10 [==============================] - 1s 53ms/step - loss: 0.2927 - acc: 0.9281 - val_loss: 0.4092 - val_acc: 0.9125\n",
      "Epoch 28/80\n",
      "10/10 [==============================] - 1s 61ms/step - loss: 0.2794 - acc: 0.9094 - val_loss: 0.3197 - val_acc: 0.9187\n",
      "Epoch 29/80\n",
      "10/10 [==============================] - 1s 61ms/step - loss: 0.2508 - acc: 0.9312 - val_loss: 0.3411 - val_acc: 0.9187\n",
      "Epoch 30/80\n",
      "10/10 [==============================] - 1s 57ms/step - loss: 0.2655 - acc: 0.9187 - val_loss: 0.3910 - val_acc: 0.8813\n",
      "Epoch 31/80\n",
      "10/10 [==============================] - 1s 55ms/step - loss: 0.2937 - acc: 0.9094 - val_loss: 0.3509 - val_acc: 0.9187\n",
      "Epoch 32/80\n",
      "10/10 [==============================] - 1s 54ms/step - loss: 0.2623 - acc: 0.9312 - val_loss: 0.3215 - val_acc: 0.9438\n",
      "Epoch 33/80\n",
      "10/10 [==============================] - 1s 60ms/step - loss: 0.2066 - acc: 0.9344 - val_loss: 0.3356 - val_acc: 0.9312\n",
      "Epoch 34/80\n",
      "10/10 [==============================] - 1s 61ms/step - loss: 0.2437 - acc: 0.9250 - val_loss: 0.2541 - val_acc: 0.9500\n",
      "Epoch 35/80\n",
      "10/10 [==============================] - 1s 62ms/step - loss: 0.2486 - acc: 0.9219 - val_loss: 0.3266 - val_acc: 0.9187\n",
      "Epoch 36/80\n",
      "10/10 [==============================] - 1s 54ms/step - loss: 0.1943 - acc: 0.9406 - val_loss: 0.3035 - val_acc: 0.9563\n",
      "Epoch 37/80\n",
      "10/10 [==============================] - 1s 54ms/step - loss: 0.1611 - acc: 0.9625 - val_loss: 0.2799 - val_acc: 0.9312\n",
      "Epoch 38/80\n",
      "10/10 [==============================] - 1s 59ms/step - loss: 0.1938 - acc: 0.9531 - val_loss: 0.2659 - val_acc: 0.9438\n",
      "Epoch 39/80\n",
      "10/10 [==============================] - 1s 54ms/step - loss: 0.2634 - acc: 0.9125 - val_loss: 0.2028 - val_acc: 0.9625\n",
      "Epoch 40/80\n",
      "10/10 [==============================] - 1s 55ms/step - loss: 0.2141 - acc: 0.9406 - val_loss: 0.2693 - val_acc: 0.9312\n",
      "Epoch 41/80\n",
      "10/10 [==============================] - 1s 51ms/step - loss: 0.2269 - acc: 0.9219 - val_loss: 0.1875 - val_acc: 0.9750\n",
      "Epoch 42/80\n",
      "10/10 [==============================] - 1s 58ms/step - loss: 0.1366 - acc: 0.9688 - val_loss: 0.2718 - val_acc: 0.9500\n",
      "Epoch 43/80\n",
      "10/10 [==============================] - 1s 65ms/step - loss: 0.1487 - acc: 0.9531 - val_loss: 0.1755 - val_acc: 0.9438\n",
      "Epoch 44/80\n",
      "10/10 [==============================] - 1s 56ms/step - loss: 0.1223 - acc: 0.9563 - val_loss: 0.2263 - val_acc: 0.9625\n",
      "Epoch 45/80\n",
      "10/10 [==============================] - 1s 57ms/step - loss: 0.1547 - acc: 0.9531 - val_loss: 0.2238 - val_acc: 0.9625\n",
      "Epoch 46/80\n",
      "10/10 [==============================] - 1s 57ms/step - loss: 0.1175 - acc: 0.9625 - val_loss: 0.2430 - val_acc: 0.9500\n",
      "Epoch 47/80\n",
      "10/10 [==============================] - 1s 59ms/step - loss: 0.1341 - acc: 0.9563 - val_loss: 0.2429 - val_acc: 0.9438\n",
      "Epoch 48/80\n",
      "10/10 [==============================] - 1s 61ms/step - loss: 0.0927 - acc: 0.9750 - val_loss: 0.1849 - val_acc: 0.9688\n",
      "Epoch 49/80\n",
      "10/10 [==============================] - 1s 53ms/step - loss: 0.1030 - acc: 0.9750 - val_loss: 0.2894 - val_acc: 0.9250\n",
      "Epoch 50/80\n",
      "10/10 [==============================] - 1s 58ms/step - loss: 0.1024 - acc: 0.9812 - val_loss: 0.1901 - val_acc: 0.9750\n",
      "Epoch 51/80\n",
      "10/10 [==============================] - 1s 57ms/step - loss: 0.0950 - acc: 0.9844 - val_loss: 0.1712 - val_acc: 0.9750\n",
      "Epoch 52/80\n",
      "10/10 [==============================] - 1s 61ms/step - loss: 0.1406 - acc: 0.9469 - val_loss: 0.2106 - val_acc: 0.9625\n",
      "Epoch 53/80\n",
      "10/10 [==============================] - 1s 63ms/step - loss: 0.0912 - acc: 0.9750 - val_loss: 0.2317 - val_acc: 0.9688\n",
      "Epoch 54/80\n",
      "10/10 [==============================] - 1s 58ms/step - loss: 0.1118 - acc: 0.9688 - val_loss: 0.1670 - val_acc: 0.9812\n",
      "Epoch 55/80\n",
      "10/10 [==============================] - 1s 51ms/step - loss: 0.0966 - acc: 0.9719 - val_loss: 0.2049 - val_acc: 0.9625\n",
      "Epoch 56/80\n",
      "10/10 [==============================] - 1s 61ms/step - loss: 0.1081 - acc: 0.9625 - val_loss: 0.3579 - val_acc: 0.9125\n",
      "Epoch 57/80\n",
      "10/10 [==============================] - 1s 51ms/step - loss: 0.1223 - acc: 0.9605 - val_loss: 0.2249 - val_acc: 0.9563\n",
      "Epoch 58/80\n",
      "10/10 [==============================] - 1s 57ms/step - loss: 0.1114 - acc: 0.9656 - val_loss: 0.2712 - val_acc: 0.9312\n",
      "Epoch 59/80\n",
      "10/10 [==============================] - 1s 51ms/step - loss: 0.0869 - acc: 0.9625 - val_loss: 0.1740 - val_acc: 0.9812\n",
      "Epoch 60/80\n",
      "10/10 [==============================] - 1s 61ms/step - loss: 0.0887 - acc: 0.9812 - val_loss: 0.1352 - val_acc: 0.9750\n",
      "Epoch 61/80\n",
      "10/10 [==============================] - 1s 57ms/step - loss: 0.0934 - acc: 0.9719 - val_loss: 0.1005 - val_acc: 0.9875\n",
      "Epoch 62/80\n",
      "10/10 [==============================] - 1s 54ms/step - loss: 0.0778 - acc: 0.9812 - val_loss: 0.1876 - val_acc: 0.9750\n",
      "Epoch 63/80\n",
      "10/10 [==============================] - 1s 61ms/step - loss: 0.0917 - acc: 0.9688 - val_loss: 0.1241 - val_acc: 0.9688\n",
      "Epoch 64/80\n",
      "10/10 [==============================] - 1s 57ms/step - loss: 0.1124 - acc: 0.9750 - val_loss: 0.1345 - val_acc: 0.9750\n",
      "Epoch 65/80\n",
      "10/10 [==============================] - 1s 60ms/step - loss: 0.0760 - acc: 0.9844 - val_loss: 0.1928 - val_acc: 0.9688\n",
      "Epoch 66/80\n",
      "10/10 [==============================] - 1s 55ms/step - loss: 0.0702 - acc: 0.9812 - val_loss: 0.1451 - val_acc: 0.9812\n",
      "Epoch 67/80\n",
      "10/10 [==============================] - 1s 55ms/step - loss: 0.0900 - acc: 0.9688 - val_loss: 0.1692 - val_acc: 0.9750\n",
      "Epoch 68/80\n",
      "10/10 [==============================] - 1s 55ms/step - loss: 0.0895 - acc: 0.9688 - val_loss: 0.1291 - val_acc: 0.9812\n",
      "Epoch 69/80\n",
      "10/10 [==============================] - 1s 59ms/step - loss: 0.0606 - acc: 0.9781 - val_loss: 0.1751 - val_acc: 0.9688\n",
      "Epoch 70/80\n",
      "10/10 [==============================] - 1s 86ms/step - loss: 0.0419 - acc: 0.9868 - val_loss: 0.1790 - val_acc: 0.9812\n",
      "Epoch 71/80\n",
      "10/10 [==============================] - 1s 80ms/step - loss: 0.0905 - acc: 0.9750 - val_loss: 0.1513 - val_acc: 0.9750\n",
      "Epoch 72/80\n",
      "10/10 [==============================] - 1s 56ms/step - loss: 0.0540 - acc: 0.9844 - val_loss: 0.1504 - val_acc: 0.9812\n",
      "Epoch 73/80\n",
      "10/10 [==============================] - 1s 62ms/step - loss: 0.0522 - acc: 0.9844 - val_loss: 0.1544 - val_acc: 0.9812\n",
      "Epoch 74/80\n",
      "10/10 [==============================] - 1s 64ms/step - loss: 0.0769 - acc: 0.9688 - val_loss: 0.1913 - val_acc: 0.9625\n",
      "Epoch 75/80\n",
      "10/10 [==============================] - 1s 54ms/step - loss: 0.0526 - acc: 0.9844 - val_loss: 0.1462 - val_acc: 0.9812\n",
      "Epoch 76/80\n",
      "10/10 [==============================] - 1s 56ms/step - loss: 0.0440 - acc: 0.9875 - val_loss: 0.1585 - val_acc: 0.9750\n",
      "Epoch 77/80\n",
      "10/10 [==============================] - 1s 59ms/step - loss: 0.0459 - acc: 0.9844 - val_loss: 0.1579 - val_acc: 0.9812\n",
      "Epoch 78/80\n",
      "10/10 [==============================] - 1s 57ms/step - loss: 0.0703 - acc: 0.9836 - val_loss: 0.1538 - val_acc: 0.9875\n",
      "Epoch 79/80\n",
      "10/10 [==============================] - 1s 55ms/step - loss: 0.0514 - acc: 0.9875 - val_loss: 0.1712 - val_acc: 0.9688\n",
      "Epoch 80/80\n",
      "10/10 [==============================] - 1s 57ms/step - loss: 0.0458 - acc: 0.9812 - val_loss: 0.1539 - val_acc: 0.9688\n"
     ]
    }
   ],
   "source": [
    "EPOCHS=80\n",
    "history=model.fit(\n",
    "    train_generator,\n",
    "    steps_per_epoch=10,\n",
    "    epochs=EPOCHS,\n",
    "    verbose=1,\n",
    "    validation_data=valid_generator,\n",
    "    validation_steps=5\n",
    ")"
   ]
  },
  {
   "cell_type": "code",
   "execution_count": 10,
   "metadata": {},
   "outputs": [
    {
     "name": "stderr",
     "output_type": "stream",
     "text": [
      "WARNING:absl:Found untraced functions such as _jit_compiled_convolution_op, _jit_compiled_convolution_op, _jit_compiled_convolution_op while saving (showing 3 of 3). These functions will not be directly callable after loading.\n"
     ]
    },
    {
     "name": "stdout",
     "output_type": "stream",
     "text": [
      "INFO:tensorflow:Assets written to: C:\\Users\\ADMIN\\AppData\\Local\\Temp\\tmpyv_6xxop\\assets\n"
     ]
    },
    {
     "name": "stderr",
     "output_type": "stream",
     "text": [
      "INFO:tensorflow:Assets written to: C:\\Users\\ADMIN\\AppData\\Local\\Temp\\tmpyv_6xxop\\assets\n"
     ]
    }
   ],
   "source": [
    "# Chuyển đổi mô hình thành TensorFlow Lite\n",
    "converter = tf.lite.TFLiteConverter.from_keras_model(model)\n",
    "tflite_model = converter.convert()\n",
    "\n",
    "# Lưu mô hình TensorFlow Lite vào file\n",
    "with open('converted_model.tflite', 'wb') as f:\n",
    "    f.write(tflite_model)"
   ]
  }
 ],
 "metadata": {
  "kernelspec": {
   "display_name": "Python 3",
   "language": "python",
   "name": "python3"
  },
  "language_info": {
   "codemirror_mode": {
    "name": "ipython",
    "version": 3
   },
   "file_extension": ".py",
   "mimetype": "text/x-python",
   "name": "python",
   "nbconvert_exporter": "python",
   "pygments_lexer": "ipython3",
   "version": "3.11.3"
  },
  "orig_nbformat": 4
 },
 "nbformat": 4,
 "nbformat_minor": 2
}
