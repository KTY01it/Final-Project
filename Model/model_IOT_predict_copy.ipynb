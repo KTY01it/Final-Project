{
 "cells": [
  {
   "cell_type": "code",
   "execution_count": 1,
   "metadata": {},
   "outputs": [],
   "source": [
    "import tensorflow as tf\n",
    "from tensorflow import keras\n",
    "from keras import Sequential\n",
    "from keras.layers import Dense\n",
    "from keras import Input\n",
    "import matplotlib.pyplot as plt\n",
    "import numpy as np\n",
    "import cv2 as cv\n",
    "import itertools"
   ]
  },
  {
   "cell_type": "code",
   "execution_count": 28,
   "metadata": {},
   "outputs": [],
   "source": [
    "import os\n",
    "train_image_files_path='C:/Users/ADMIN/Downloads/newdata/datanumber/filetrain'\n",
    "valid_image_files_path='C:/Users/ADMIN/Downloads/newdata/datanumber/filevalid'"
   ]
  },
  {
   "cell_type": "code",
   "execution_count": 29,
   "metadata": {},
   "outputs": [],
   "source": [
    "label=['0', '1', '2', '3', '4', '5', '6', '7', '8', '9']"
   ]
  },
  {
   "cell_type": "code",
   "execution_count": 30,
   "metadata": {},
   "outputs": [],
   "source": [
    "from keras.preprocessing.image import ImageDataGenerator\n",
    "train_data_gen = ImageDataGenerator(rescale=1/255)\n",
    "valid_data_gen = ImageDataGenerator(rescale=1/255)"
   ]
  },
  {
   "cell_type": "code",
   "execution_count": 31,
   "metadata": {},
   "outputs": [
    {
     "name": "stdout",
     "output_type": "stream",
     "text": [
      "Found 767 images belonging to 10 classes.\n",
      "Found 167 images belonging to 10 classes.\n"
     ]
    }
   ],
   "source": [
    "train_generator = train_data_gen.flow_from_directory(\n",
    "    train_image_files_path,\n",
    "    target_size=(31,43),\n",
    "    class_mode='categorical'\n",
    ")\n",
    "\n",
    "valid_generator = valid_data_gen.flow_from_directory(\n",
    "    valid_image_files_path,\n",
    "    target_size=(31,43),\n",
    "    class_mode='categorical'\n",
    ")"
   ]
  },
  {
   "cell_type": "code",
   "execution_count": 34,
   "metadata": {},
   "outputs": [],
   "source": [
    "from keras.models import Sequential\n",
    "from keras.layers import Dense, Dropout, Conv2D, MaxPooling2D, Flatten\n",
    "\n",
    "model=Sequential()\n",
    "\n",
    "#LopCNN1\n",
    "model.add(Conv2D(4,(3,3), activation='relu',input_shape=(31,43,3)))\n",
    "model.add(MaxPooling2D(2,2))\n",
    "#LopCNN2\n",
    "model.add(Conv2D(32,(3,3), activation='relu'))\n",
    "model.add(MaxPooling2D(2,2))\n",
    "\n",
    "#LopCNN3\n",
    "model.add(Conv2D(64,(3,3), activation='relu'))\n",
    "model.add(MaxPooling2D(2,2))\n",
    "\n",
    "model.add(Flatten())\n",
    "model.add(Dense(80,activation=tf.nn.relu))\n",
    "model.add(Dense(10, activation=tf.nn.softmax))"
   ]
  },
  {
   "cell_type": "code",
   "execution_count": 35,
   "metadata": {},
   "outputs": [
    {
     "name": "stdout",
     "output_type": "stream",
     "text": [
      "Model: \"sequential_2\"\n",
      "_________________________________________________________________\n",
      " Layer (type)                Output Shape              Param #   \n",
      "=================================================================\n",
      " conv2d_6 (Conv2D)           (None, 29, 41, 4)         112       \n",
      "                                                                 \n",
      " max_pooling2d_6 (MaxPooling  (None, 14, 20, 4)        0         \n",
      " 2D)                                                             \n",
      "                                                                 \n",
      " conv2d_7 (Conv2D)           (None, 12, 18, 32)        1184      \n",
      "                                                                 \n",
      " max_pooling2d_7 (MaxPooling  (None, 6, 9, 32)         0         \n",
      " 2D)                                                             \n",
      "                                                                 \n",
      " conv2d_8 (Conv2D)           (None, 4, 7, 64)          18496     \n",
      "                                                                 \n",
      " max_pooling2d_8 (MaxPooling  (None, 2, 3, 64)         0         \n",
      " 2D)                                                             \n",
      "                                                                 \n",
      " flatten_2 (Flatten)         (None, 384)               0         \n",
      "                                                                 \n",
      " dense_4 (Dense)             (None, 80)                30800     \n",
      "                                                                 \n",
      " dense_5 (Dense)             (None, 10)                810       \n",
      "                                                                 \n",
      "=================================================================\n",
      "Total params: 51,402\n",
      "Trainable params: 51,402\n",
      "Non-trainable params: 0\n",
      "_________________________________________________________________\n"
     ]
    }
   ],
   "source": [
    "model.summary()"
   ]
  },
  {
   "cell_type": "code",
   "execution_count": 36,
   "metadata": {},
   "outputs": [],
   "source": [
    "from keras.optimizers import Adam\n",
    "model.compile(optimizer=Adam(learning_rate=0.001),\n",
    "              loss='categorical_crossentropy',\n",
    "              metrics=['acc'])"
   ]
  },
  {
   "cell_type": "code",
   "execution_count": 37,
   "metadata": {},
   "outputs": [
    {
     "name": "stdout",
     "output_type": "stream",
     "text": [
      "Epoch 1/80\n",
      "20/20 [==============================] - 7s 305ms/step - loss: 2.1983 - acc: 0.2520 - val_loss: 2.1536 - val_acc: 0.2875\n",
      "Epoch 2/80\n",
      "20/20 [==============================] - 2s 89ms/step - loss: 1.7895 - acc: 0.4210 - val_loss: 1.9094 - val_acc: 0.3250\n",
      "Epoch 3/80\n",
      "20/20 [==============================] - 1s 44ms/step - loss: 1.4029 - acc: 0.5227 - val_loss: 1.6988 - val_acc: 0.4563\n",
      "Epoch 4/80\n",
      "20/20 [==============================] - 1s 41ms/step - loss: 1.0509 - acc: 0.6416 - val_loss: 1.3647 - val_acc: 0.5875\n",
      "Epoch 5/80\n",
      "20/20 [==============================] - 1s 43ms/step - loss: 0.7713 - acc: 0.7844 - val_loss: 1.2209 - val_acc: 0.6438\n",
      "Epoch 6/80\n",
      "20/20 [==============================] - 1s 43ms/step - loss: 0.5898 - acc: 0.8216 - val_loss: 1.0058 - val_acc: 0.6812\n",
      "Epoch 7/80\n",
      "20/20 [==============================] - 1s 40ms/step - loss: 0.4307 - acc: 0.8858 - val_loss: 1.0722 - val_acc: 0.6687\n",
      "Epoch 8/80\n",
      "20/20 [==============================] - 1s 40ms/step - loss: 0.3176 - acc: 0.9094 - val_loss: 0.7507 - val_acc: 0.7437\n",
      "Epoch 9/80\n",
      "20/20 [==============================] - 1s 41ms/step - loss: 0.2578 - acc: 0.9264 - val_loss: 0.6906 - val_acc: 0.7625\n",
      "Epoch 10/80\n",
      "20/20 [==============================] - 1s 40ms/step - loss: 0.2264 - acc: 0.9343 - val_loss: 0.8331 - val_acc: 0.7563\n",
      "Epoch 11/80\n",
      "20/20 [==============================] - 1s 41ms/step - loss: 0.1822 - acc: 0.9499 - val_loss: 0.7827 - val_acc: 0.8062\n",
      "Epoch 12/80\n",
      "20/20 [==============================] - 1s 42ms/step - loss: 0.1283 - acc: 0.9640 - val_loss: 0.7223 - val_acc: 0.8125\n",
      "Epoch 13/80\n",
      "20/20 [==============================] - 1s 40ms/step - loss: 0.0853 - acc: 0.9797 - val_loss: 0.7326 - val_acc: 0.7937\n",
      "Epoch 14/80\n",
      "20/20 [==============================] - 1s 42ms/step - loss: 0.1106 - acc: 0.9703 - val_loss: 0.9024 - val_acc: 0.7563\n",
      "Epoch 15/80\n",
      "20/20 [==============================] - 1s 44ms/step - loss: 0.0864 - acc: 0.9750 - val_loss: 0.7404 - val_acc: 0.7875\n",
      "Epoch 16/80\n",
      "20/20 [==============================] - 1s 42ms/step - loss: 0.1258 - acc: 0.9577 - val_loss: 0.8430 - val_acc: 0.7625\n",
      "Epoch 17/80\n",
      "20/20 [==============================] - 1s 43ms/step - loss: 0.0880 - acc: 0.9750 - val_loss: 0.9240 - val_acc: 0.7875\n",
      "Epoch 18/80\n",
      "20/20 [==============================] - 1s 43ms/step - loss: 0.0634 - acc: 0.9875 - val_loss: 0.6979 - val_acc: 0.8000\n",
      "Epoch 19/80\n",
      "20/20 [==============================] - 1s 42ms/step - loss: 0.0766 - acc: 0.9750 - val_loss: 0.7652 - val_acc: 0.8062\n",
      "Epoch 20/80\n",
      "20/20 [==============================] - 1s 41ms/step - loss: 0.0808 - acc: 0.9812 - val_loss: 0.9370 - val_acc: 0.7875\n",
      "Epoch 21/80\n",
      "20/20 [==============================] - 1s 40ms/step - loss: 0.0540 - acc: 0.9890 - val_loss: 0.8632 - val_acc: 0.8000\n",
      "Epoch 22/80\n",
      "20/20 [==============================] - 1s 43ms/step - loss: 0.0565 - acc: 0.9828 - val_loss: 0.8480 - val_acc: 0.8000\n",
      "Epoch 23/80\n",
      "20/20 [==============================] - 1s 40ms/step - loss: 0.0494 - acc: 0.9859 - val_loss: 0.7358 - val_acc: 0.8188\n",
      "Epoch 24/80\n",
      "20/20 [==============================] - 1s 41ms/step - loss: 0.0371 - acc: 0.9875 - val_loss: 0.8416 - val_acc: 0.7750\n",
      "Epoch 25/80\n",
      "20/20 [==============================] - 1s 42ms/step - loss: 0.0777 - acc: 0.9765 - val_loss: 0.7169 - val_acc: 0.7875\n",
      "Epoch 26/80\n",
      "20/20 [==============================] - 1s 43ms/step - loss: 0.0460 - acc: 0.9890 - val_loss: 0.9201 - val_acc: 0.7937\n",
      "Epoch 27/80\n",
      "20/20 [==============================] - 1s 42ms/step - loss: 0.0426 - acc: 0.9890 - val_loss: 0.7537 - val_acc: 0.8000\n",
      "Epoch 28/80\n",
      "20/20 [==============================] - 1s 40ms/step - loss: 0.0708 - acc: 0.9875 - val_loss: 0.9341 - val_acc: 0.7750\n",
      "Epoch 29/80\n",
      "20/20 [==============================] - 1s 42ms/step - loss: 0.0227 - acc: 0.9906 - val_loss: 0.8594 - val_acc: 0.7688\n",
      "Epoch 30/80\n",
      "20/20 [==============================] - 1s 40ms/step - loss: 0.0354 - acc: 0.9890 - val_loss: 0.8266 - val_acc: 0.8125\n",
      "Epoch 31/80\n",
      "20/20 [==============================] - 1s 39ms/step - loss: 0.0311 - acc: 0.9890 - val_loss: 0.7067 - val_acc: 0.8188\n",
      "Epoch 32/80\n",
      "20/20 [==============================] - 1s 40ms/step - loss: 0.0361 - acc: 0.9875 - val_loss: 0.9479 - val_acc: 0.8062\n",
      "Epoch 33/80\n",
      "20/20 [==============================] - 1s 40ms/step - loss: 0.0438 - acc: 0.9859 - val_loss: 1.0108 - val_acc: 0.7688\n",
      "Epoch 34/80\n",
      "20/20 [==============================] - 1s 39ms/step - loss: 0.0402 - acc: 0.9890 - val_loss: 0.9634 - val_acc: 0.7688\n",
      "Epoch 35/80\n",
      "20/20 [==============================] - 1s 44ms/step - loss: 0.0183 - acc: 0.9937 - val_loss: 0.9872 - val_acc: 0.7812\n",
      "Epoch 36/80\n",
      "20/20 [==============================] - 1s 43ms/step - loss: 0.0149 - acc: 0.9937 - val_loss: 0.8626 - val_acc: 0.8062\n",
      "Epoch 37/80\n",
      "20/20 [==============================] - 1s 40ms/step - loss: 0.0187 - acc: 0.9969 - val_loss: 0.9205 - val_acc: 0.7625\n",
      "Epoch 38/80\n",
      "20/20 [==============================] - 1s 43ms/step - loss: 0.0095 - acc: 0.9984 - val_loss: 0.9774 - val_acc: 0.7937\n",
      "Epoch 39/80\n",
      "20/20 [==============================] - 1s 39ms/step - loss: 0.0071 - acc: 0.9984 - val_loss: 0.8198 - val_acc: 0.8062\n",
      "Epoch 40/80\n",
      "20/20 [==============================] - 1s 39ms/step - loss: 0.0042 - acc: 1.0000 - val_loss: 0.8688 - val_acc: 0.8000\n",
      "Epoch 41/80\n",
      "20/20 [==============================] - 1s 45ms/step - loss: 0.0031 - acc: 1.0000 - val_loss: 0.8397 - val_acc: 0.8125\n",
      "Epoch 42/80\n",
      "20/20 [==============================] - 1s 40ms/step - loss: 0.0024 - acc: 1.0000 - val_loss: 0.8169 - val_acc: 0.8313\n",
      "Epoch 43/80\n",
      "20/20 [==============================] - 1s 42ms/step - loss: 0.0032 - acc: 1.0000 - val_loss: 0.9015 - val_acc: 0.8000\n",
      "Epoch 44/80\n",
      "20/20 [==============================] - 1s 43ms/step - loss: 0.0020 - acc: 1.0000 - val_loss: 0.8761 - val_acc: 0.8188\n",
      "Epoch 45/80\n",
      "20/20 [==============================] - 1s 42ms/step - loss: 0.0167 - acc: 0.9953 - val_loss: 0.9095 - val_acc: 0.8062\n",
      "Epoch 46/80\n",
      "20/20 [==============================] - 1s 43ms/step - loss: 0.0050 - acc: 1.0000 - val_loss: 0.7905 - val_acc: 0.8250\n",
      "Epoch 47/80\n",
      "15/20 [=====================>........] - ETA: 0s - loss: 0.0063 - acc: 0.9958"
     ]
    }
   ],
   "source": [
    "EPOCHS=80\n",
    "history=model.fit(\n",
    "    train_generator,\n",
    "    steps_per_epoch=20,\n",
    "    epochs=EPOCHS,\n",
    "    verbose=1,\n",
    "    validation_data=valid_generator,\n",
    "    validation_steps=5\n",
    ")"
   ]
  },
  {
   "cell_type": "code",
   "execution_count": 10,
   "metadata": {},
   "outputs": [],
   "source": [
    "# # Chuyển đổi mô hình thành TensorFlow Lite\n",
    "# converter = tf.lite.TFLiteConverter.from_keras_model(model)\n",
    "# tflite_model = converter.convert()\n",
    "\n",
    "# # Lưu mô hình TensorFlow Lite vào file\n",
    "# with open('converted_model.tflite', 'wb') as f:\n",
    "#     f.write(tflite_model)\n",
    "\n"
   ]
  },
  {
   "cell_type": "code",
   "execution_count": 27,
   "metadata": {},
   "outputs": [
    {
     "name": "stdout",
     "output_type": "stream",
     "text": [
      "1/1 [==============================] - 0s 36ms/step\n",
      "Gia tri du doan: 0\n"
     ]
    },
    {
     "data": {
      "image/png": "[encoded data removed]",
      "text/plain": [
       "<Figure size 640x480 with 1 Axes>"
      ]
     },
     "metadata": {},
     "output_type": "display_data"
    }
   ],
   "source": [
    "from keras.utils import load_img, img_to_array\n",
    "import matplotlib.pyplot as plt\n",
    "import matplotlib.image as mpimg\n",
    "import imutils\n",
    "from matplotlib import pyplot as plt\n",
    "from flatten_json import flatten\n",
    "from scipy.ndimage import median_filter\n",
    "\n",
    "# for i in range (8):\n",
    "    # img_path='C:/Users/ADMIN/Downloads/datanumber/filetest/9b/9b ('+str(i+1)+').jpg'\n",
    "\n",
    "img_path='C:/Users/ADMIN/Downloads/PIC1.jpg'\n",
    "img_gray = cv.imread(img_path)\n",
    "\n",
    "resized_image = cv.resize(img_gray, (31, 43))\n",
    "\n",
    "plt.imshow(resized_image)\n",
    "\n",
    "x=tf.keras.utils.img_to_array(resized_image)\n",
    "# x = np.transpose(x, (1, 0, 2))\n",
    "x=np.expand_dims(x,axis=0)\n",
    "images= np.vstack([x])\n",
    "y_predict = model.predict(images, batch_size=10)\n",
    "predicted_numbers = np.argmax(y_predict, axis=1)\n",
    "print('Gia tri du doan:', label[np.argmax(y_predict)])"
   ]
  }
 ],
 "metadata": {
  "kernelspec": {
   "display_name": "Python 3",
   "language": "python",
   "name": "python3"
  },
  "language_info": {
   "codemirror_mode": {
    "name": "ipython",
    "version": 3
   },
   "file_extension": ".py",
   "mimetype": "text/x-python",
   "name": "python",
   "nbconvert_exporter": "python",
   "pygments_lexer": "ipython3",
   "version": "3.11.3"
  },
  "orig_nbformat": 4
 },
 "nbformat": 4,
 "nbformat_minor": 2
}
